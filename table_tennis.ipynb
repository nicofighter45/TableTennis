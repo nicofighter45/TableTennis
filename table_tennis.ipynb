{
  "nbformat": 4,
  "nbformat_minor": 0,
  "metadata": {
    "colab": {
      "provenance": [],
      "include_colab_link": true
    },
    "kernelspec": {
      "name": "python3",
      "display_name": "Python 3"
    },
    "language_info": {
      "name": "python"
    }
  },
  "cells": [
    {
      "cell_type": "markdown",
      "metadata": {
        "id": "view-in-github",
        "colab_type": "text"
      },
      "source": [
        "<a href=\"https://colab.research.google.com/github/nicofighter45/TableTennis/blob/main/README.ipynb\" target=\"_parent\"><img src=\"https://colab.research.google.com/assets/colab-badge.svg\" alt=\"Open In Colab\"/></a>"
      ]
    },
    {
      "cell_type": "markdown",
      "source": [
        "# TIPE\n",
        "Le but de notre TIPE et d'abord de simuler avec des valeurs donnés un lancer de balle de tennis de table\n",
        "en prenant en compte\n",
        " - le poids de la balle\n",
        " - les frottements de l'air \n",
        " - la force de Magnus \n",
        "---\n",
        "Puis grâce à une observation de lancées de balle de tennis de table, on prend frame par frame la position de la balle pour enfin comparer ses valeurs avec des simulations de lancée possédant différentes valeurs de coefficient de trajectoire : en prenant celle qui s'approche le plus de la réalité on pourra approximer notre coefficient de frottement.\n",
        " "
      ],
      "metadata": {
        "id": "abcAPBiwKZIO"
      }
    },
    {
      "cell_type": "markdown",
      "source": [
        "# Simulations\n",
        "\n",
        "\n"
      ],
      "metadata": {
        "id": "KtRRJXXjNb22"
      }
    },
    {
      "cell_type": "markdown",
      "source": [
        "\n",
        "Pour les simultions, nous utiliserons un code en C++ ainsi nous aurons un calcul plus rapide.\n",
        "\n",
        "---\n",
        "Ensuite nous utiliserons une Méthode d'Euler avec un écart entre les valeurs d'une milli-seconde\n",
        "\n"
      ],
      "metadata": {
        "id": "fReC4h7FOoUt"
      }
    },
    {
      "cell_type": "markdown",
      "source": [
        "## Bilan des forces"
      ],
      "metadata": {
        "id": "k2dUPFEuUV32"
      }
    },
    {
      "cell_type": "markdown",
      "source": [
        "###Poids\n",
        "\n"
      ],
      "metadata": {
        "id": "tIdzhVksUiAe"
      }
    },
    {
      "cell_type": "markdown",
      "source": [
        "$P = m\\times g$\n",
        "\n",
        "\n",
        "P : le poids\n",
        "\n",
        "m : la masse \n",
        "\n",
        "g : la constante de gravition terrestre"
      ],
      "metadata": {
        "id": "ngSLDgkqVlaG"
      }
    },
    {
      "cell_type": "markdown",
      "source": [
        "###Frottement\n"
      ],
      "metadata": {
        "id": "iJTF-QU1VsW1"
      }
    },
    {
      "cell_type": "markdown",
      "source": [
        "$\\overrightarrow{f} = \\frac{1}{2} \\times rho\\times Cx \\times S \\times \\lvert \\lvert \\overrightarrow{v} \\rvert \\rvert \\times \\overrightarrow{v}$\n",
        "\n",
        "f = Force de frottement fluide\n",
        "\n",
        "Cx = coefficient de frottement fluide\n",
        "\n",
        "S = surface de frottement\n",
        "\n",
        "rho = masse volumique de l'air\n",
        "\n",
        "$\\overrightarrow{v}$ = vecteur vitesse"
      ],
      "metadata": {
        "id": "-ImePIwaZi5-"
      }
    },
    {
      "cell_type": "markdown",
      "source": [
        "###Force de magnus "
      ],
      "metadata": {
        "id": "PGk9PxI4ZmhW"
      }
    },
    {
      "cell_type": "markdown",
      "source": [
        "$\\overrightarrow{Fm} = S0 \\times \\overrightarrow{v}$\n",
        "\n",
        "S0 = Surface de frottement de l'air\n",
        "\n",
        "$\\overrightarrow{v}$ = vecteur vitesse"
      ],
      "metadata": {
        "id": "g-S26DsLZqtu"
      }
    },
    {
      "cell_type": "markdown",
      "source": [
        "## Poid seul\n"
      ],
      "metadata": {
        "id": "k-108auENhkd"
      }
    },
    {
      "cell_type": "markdown",
      "source": [
        "Une simulation simple"
      ],
      "metadata": {
        "id": "4z6GXJsQ_3sK"
      }
    },
    {
      "cell_type": "code",
      "source": [
        "#pragma once\n",
        "\n",
        "#include <iostream>\n",
        "#include \"../tools/vector.h\"\n",
        "#include \"../tools/constants.h\"\n",
        "#include <cmath>\n",
        "\n",
        "using namespace std;\n",
        "\n",
        "static Vect3D getVector(double time, Vect3D initialPosition, Vect3D initialSpeed)\n",
        "{\n",
        "    return Vect3D(initialSpeed.getX() * time + initialPosition.getX(),\n",
        "                  initialSpeed.getY() * time + initialPosition.getY(),\n",
        "                  -gravity / 2 * sq(time) + initialSpeed.getZ() * time + initialPosition.getZ());\n",
        "}\n",
        "\n",
        "vector<Vect3D> runGravitySimulation(Vect3D initialPosition, Vect3D initialSpeed)\n",
        "{\n",
        "    vector<Vect3D> positions(1, initialPosition);\n",
        "    double const final_time = (sqrt(sq(initialSpeed.getZ()) + 2 * gravity * initialPosition.getZ()) - initialSpeed.getZ()) / 2;\n",
        "\n",
        "    double const interval(1 / spacing_per_second);\n",
        "\n",
        "    for (double time = interval; time < final_time; time += interval)\n",
        "    {\n",
        "        positions.push_back(getVector(time, initialPosition, initialSpeed));\n",
        "    }\n",
        "\n",
        "    Vect3D position(initialPosition), speed(initialSpeed), acceleration(0, 0, -9.81);\n",
        "    cout << \"Time = \" << final_time << \"s\" << endl\n",
        "         << \"Position:\" << endl\n",
        "         << position.getValue() << endl\n",
        "         << \"Speed:\" << endl\n",
        "         << speed.getValue() << endl\n",
        "         << \"Acceleration:\" << endl\n",
        "         << acceleration.getValue() << endl;\n",
        "\n",
        "    return positions;\n",
        "}\n",
        "\n",
        "Vect3D getGravitySimulationEnd(Vect3D initialPosition, Vect3D initialSpeed)\n",
        "{\n",
        "    double const time = (sqrt(sq(initialSpeed.getZ()) + 2 * gravity * initialPosition.getZ()) - initialSpeed.getZ()) / 2;\n",
        "    return getVector(time, initialPosition, initialSpeed);\n",
        "}"
      ],
      "metadata": {
        "id": "_oSs27wZS2GG"
      },
      "execution_count": null,
      "outputs": []
    },
    {
      "cell_type": "markdown",
      "source": [
        "##Frottement + Poid"
      ],
      "metadata": {
        "id": "Sy4LK-lPNp0F"
      }
    },
    {
      "cell_type": "code",
      "source": [
        "#pragma once\n",
        "\n",
        "#include <string>\n",
        "#include <iostream>\n",
        "#include \"../tools/vector.h\"\n",
        "#include \"../tools/constants.h\"\n",
        "#include <vector>\n",
        "\n",
        "using namespace std;\n",
        "\n",
        "vector<Vect3D> runFrictionSimulation(Vect3D initialPosition, Vect3D initialSpeed)\n",
        "{\n",
        "\n",
        "    double const e((rho * Cx * surface) / (2 * mass));\n",
        "\n",
        "    Vect3D position(initialPosition);\n",
        "    Vect3D speed(initialSpeed);\n",
        "    Vect3D old_speed(speed);\n",
        "    Vect3D acceleration(0, 0, 0);\n",
        "    Vect3D old_acceleration(acceleration);\n",
        "\n",
        "    double const interval(1 / spacing_per_second);\n",
        "    unsigned int frame(1);\n",
        "\n",
        "    double coefficient(0), speed_size(0);\n",
        "\n",
        "    vector<Vect3D> positions(1, position);\n",
        "\n",
        "    while (position.getZ() > 0)\n",
        "    {\n",
        "        speed_size = speed.size();\n",
        "        coefficient = -e * speed_size;\n",
        "        acceleration.setValue(coefficient * speed.getX(), coefficient * speed.getY(), coefficient * speed.getZ() - gravity);\n",
        "        speed.addValue(old_acceleration.getX() * interval, old_acceleration.getY() * interval, old_acceleration.getZ() * interval);\n",
        "        position.addValue(old_speed.getX() * interval, old_speed.getY() * interval, old_speed.getZ() * interval);\n",
        "\n",
        "        positions.push_back(position);\n",
        "        old_speed = speed;\n",
        "        old_acceleration = acceleration;\n",
        "\n",
        "        frame++;\n",
        "    }\n",
        "\n",
        "    cout << \"Time = \" << frame / spacing_per_second << \"s\" << endl\n",
        "         << \"Position:\" << endl\n",
        "         << position.getValue() << endl\n",
        "         << \"Speed:\" << endl\n",
        "         << speed.getValue() << endl\n",
        "         << \"Acceleration:\" << endl\n",
        "         << acceleration.getValue() << endl;\n",
        "\n",
        "    return positions;\n",
        "}\n"
      ],
      "metadata": {
        "id": "o18kueBQTd6d"
      },
      "execution_count": null,
      "outputs": []
    },
    {
      "cell_type": "markdown",
      "source": [
        "##Frottement + Poid + Effet Magnus"
      ],
      "metadata": {
        "id": "0AvNGArnN9t5"
      }
    },
    {
      "cell_type": "code",
      "source": [
        "#pragma once\n",
        "\n",
        "#include <string>\n",
        "#include <iostream>\n",
        "#include \"../tools/vector.h\"\n",
        "#include \"../tools/constants.h\"\n",
        "\n",
        "using namespace std;\n",
        "\n",
        "vector<Vect3D> runMagnusSimulation(Vect3D initialPosition, Vect3D initialSpeed)\n",
        "{\n",
        "\n",
        "    double const rotation(1);\n",
        "    Vect3D const rotationVector(-1, 0, 0);\n",
        "    double const S0(1);\n",
        "\n",
        "    double const e((rho * Cx * surface) / (2 * mass));\n",
        "    double const f(S0 * rotation / mass);\n",
        "\n",
        "    Vect3D position(initialPosition);\n",
        "    Vect3D speed(initialSpeed);\n",
        "    Vect3D old_speed(speed);\n",
        "    Vect3D acceleration(0, 0, 0);\n",
        "    Vect3D old_acceleration(acceleration);\n",
        "\n",
        "    double const interval(1 / spacing_per_second);\n",
        "    unsigned int frame(1);\n",
        "\n",
        "    double coefficient(0), coefficient_magnus(0), speed_size(0);\n",
        "\n",
        "    vector<Vect3D> positions(1, initialPosition);\n",
        "\n",
        "    while (position.getZ() > 0)\n",
        "    {\n",
        "        speed_size = speed.size();\n",
        "        coefficient = -e * speed_size;\n",
        "        coefficient_magnus = f * speed_size;\n",
        "        Vect3D magnusForce = vectorialProduct(speed, rotationVector, coefficient_magnus);\n",
        "        acceleration.setValue(coefficient * speed.getX() + magnusForce.getX(), coefficient * speed.getY() + magnusForce.getY(),\n",
        "                              coefficient * speed.getZ() - gravity + magnusForce.getZ());\n",
        "        speed.addValue(old_acceleration.getX() * interval, old_acceleration.getY() * interval, old_acceleration.getZ() * interval);\n",
        "        position.addValue(old_speed.getX() * interval, old_speed.getY() * interval, old_speed.getZ() * interval);\n",
        "\n",
        "        old_speed = speed;\n",
        "        old_acceleration = acceleration;\n",
        "\n",
        "        frame++;\n",
        "\n",
        "        positions.push_back(position);\n",
        "    }\n",
        "\n",
        "    cout << \"Time = \" << frame / spacing_per_second << \"s\" << endl\n",
        "         << \"Position:\" << endl\n",
        "         << position.getValue() << endl\n",
        "         << \"Speed:\" << endl\n",
        "         << speed.getValue() << endl\n",
        "         << \"Acceleration:\" << endl\n",
        "         << acceleration.getValue() << endl;\n",
        "\n",
        "    return positions;\n",
        "}"
      ],
      "metadata": {
        "id": "Ybe1mKqSOPfN"
      },
      "execution_count": null,
      "outputs": []
    },
    {
      "cell_type": "markdown",
      "source": [
        "#Acquisition des points"
      ],
      "metadata": {
        "id": "hwBjdO16arOG"
      }
    },
    {
      "cell_type": "markdown",
      "source": [
        "On utilisera une bibliotheque C++ nous permettant de tracker des couleurs : nous prendrons dans notre expérience des balles de tennis de table de couleur orange. elle s'appelle OpenCV."
      ],
      "metadata": {
        "id": "ErSYQb50azHe"
      }
    },
    {
      "cell_type": "code",
      "source": [],
      "metadata": {
        "id": "J4mocRSumbZo"
      },
      "execution_count": null,
      "outputs": []
    },
    {
      "cell_type": "markdown",
      "source": [
        "Du à la déformation de l'image par la caméra l'on se doit de recalculer les différentes valeurs des points expirémentaux pour avoir une meilleur précision sur leurs valeurs"
      ],
      "metadata": {
        "id": "QPVhUWJUzgwf"
      }
    },
    {
      "cell_type": "code",
      "source": [],
      "metadata": {
        "id": "wAhm-f27zgdX"
      },
      "execution_count": null,
      "outputs": []
    },
    {
      "cell_type": "markdown",
      "source": [
        "#Traitement"
      ],
      "metadata": {
        "id": "dYU4vMRTbbLn"
      }
    },
    {
      "cell_type": "markdown",
      "source": [
        "\n",
        "Pour déterminer le coefficient de frottement fluide et le coefficient de Magnus, à partir des valeurs obtenues par l'Acquisition, l'on fait des simulation avec des coefficients de Magnus et de frottement compris dans un intervalle donné puis l'on tire la meilleur approximarion des coefficients possible puis à partir de la moyenne de chaque point avec son homologue expérimental l'on forme un écart type à partir"
      ],
      "metadata": {
        "id": "yoWmYv5hmU6L"
      }
    },
    {
      "cell_type": "markdown",
      "source": [
        "### Moyenne de liste"
      ],
      "metadata": {
        "id": "XyUhetPxbfPO"
      }
    },
    {
      "cell_type": "code",
      "source": [],
      "metadata": {
        "id": "h278WmXYyjFN"
      },
      "execution_count": null,
      "outputs": []
    },
    {
      "cell_type": "markdown",
      "source": [
        "##Variance de liste"
      ],
      "metadata": {
        "id": "BHxcVAVAyjbz"
      }
    },
    {
      "cell_type": "code",
      "source": [],
      "metadata": {
        "id": "YT2zXoEhytSl"
      },
      "execution_count": null,
      "outputs": []
    },
    {
      "cell_type": "markdown",
      "source": [
        "##Écart type de liste"
      ],
      "metadata": {
        "id": "PEQqWm1lysn5"
      }
    },
    {
      "cell_type": "code",
      "source": [],
      "metadata": {
        "id": "8zeUFbWvy8mG"
      },
      "execution_count": null,
      "outputs": []
    },
    {
      "cell_type": "markdown",
      "source": [
        "## Calcul l'écart type moyen d'une simulation au valeurs expérimentale"
      ],
      "metadata": {
        "id": "5VylippLy9WQ"
      }
    },
    {
      "cell_type": "code",
      "source": [],
      "metadata": {
        "id": "AgY2FobozMoo"
      },
      "execution_count": null,
      "outputs": []
    },
    {
      "cell_type": "markdown",
      "source": [
        "## Comparateur de valeur et output de la valeur final de coefficient de frottement"
      ],
      "metadata": {
        "id": "DMwXoDIjzQG6"
      }
    },
    {
      "cell_type": "code",
      "source": [],
      "metadata": {
        "id": "LvgAVm0FzZdX"
      },
      "execution_count": null,
      "outputs": []
    },
    {
      "cell_type": "markdown",
      "source": [
        "#Modélisation 3D de mouvement finale de balle de tennis de la simultion final avec les coefficients finaux (en python)"
      ],
      "metadata": {
        "id": "R1Jiif8x1Lc9"
      }
    },
    {
      "cell_type": "markdown",
      "source": [],
      "metadata": {
        "id": "FC4T6iFWELQ_"
      }
    },
    {
      "cell_type": "code",
      "source": [
        "list = []\n",
        "with open(\"../visualisation/transfer_value.txt\", \"r\") as file:\n",
        "    lines = file.readlines()\n",
        "    i = 0\n",
        "    for line in lines:\n",
        "        cut = line[:-2].split(\";\")\n",
        "        list.append((float(cut[0]), float(cut[1]), float(cut[2]), float(cut[3])))\n",
        "    print(list)"
      ],
      "metadata": {
        "id": "zQxyj-d-1Wsf"
      },
      "execution_count": null,
      "outputs": []
    },
    {
      "cell_type": "markdown",
      "source": [
        "#Autre"
      ],
      "metadata": {
        "id": "-_ud8pm8km-t"
      }
    },
    {
      "cell_type": "markdown",
      "source": [
        "###Constante"
      ],
      "metadata": {
        "id": "mULi9WgpkrNA"
      }
    },
    {
      "cell_type": "markdown",
      "source": [
        "Code nous permettant de garder toutes nos constantes"
      ],
      "metadata": {
        "id": "keMj1xDpkuEx"
      }
    },
    {
      "cell_type": "code",
      "source": [
        "#pragma once\n",
        "\n",
        "double const rho(1.0);\n",
        "double const Cx(0.5);\n",
        "double const diametre_in_cm(4.0);\n",
        "double const mass_in_gram(2.7);\n",
        "double const gravity(9.81);\n",
        "double const spacing_per_second(1000);\n",
        "\n",
        "double const pi(3.141592653589793);\n",
        "double const surface(diametre_in_cm *diametre_in_cm * 0.0001 * pi * 2 / 3);\n",
        "double const mass(mass_in_gram * 0.001);"
      ],
      "metadata": {
        "id": "loTSzbuYkyx7"
      },
      "execution_count": null,
      "outputs": []
    },
    {
      "cell_type": "markdown",
      "source": [
        "##Objet3D\n",
        "Nouvelle classe pour répondre a des attentes précise sur nos vecteurs 3D ( ex : produit vectoriel )"
      ],
      "metadata": {
        "id": "aYrjuTgwk0z2"
      }
    },
    {
      "cell_type": "markdown",
      "source": [
        "###Création de la classe et création de la fonction carré"
      ],
      "metadata": {
        "id": "uPNjRDIK4C2S"
      }
    },
    {
      "cell_type": "code",
      "source": [
        "#pragma once\n",
        "\n",
        "#include <string>\n",
        "#include <cmath>\n",
        "#include <vector>\n",
        "\n",
        "using namespace std;\n",
        "\n",
        "double sq(double number)\n",
        "{\n",
        "    return number * number;\n",
        "}\n",
        "\n",
        "class Vect3D\n",
        "{\n",
        "\n",
        "private:\n",
        "    double x;\n",
        "    double y;\n",
        "    double z;"
      ],
      "metadata": {
        "id": "IoBPEKvRldn4"
      },
      "execution_count": null,
      "outputs": []
    },
    {
      "cell_type": "markdown",
      "source": [
        "###fonction de la classe permettant d'obtenir les valeurs de chaque coordonnée d'un vecteur3D"
      ],
      "metadata": {
        "id": "We7r_ICh4QsK"
      }
    },
    {
      "cell_type": "code",
      "source": [
        "public:\n",
        "    double getX() { return x; };\n",
        "    double getY() { return y; };\n",
        "    double getZ() { return z; };"
      ],
      "metadata": {
        "id": "xP57P0Cl41_t"
      },
      "execution_count": null,
      "outputs": []
    },
    {
      "cell_type": "markdown",
      "source": [
        "###Constructeur de l'objet"
      ],
      "metadata": {
        "id": "F9xdkqu45DCC"
      }
    },
    {
      "cell_type": "code",
      "source": [
        "    Vect3D(double ix, double iy, double iz)\n",
        "    {\n",
        "        x = ix;\n",
        "        y = iy;\n",
        "        z = iz;\n",
        "    }"
      ],
      "metadata": {
        "id": "w9JCzUGV5CxY"
      },
      "execution_count": null,
      "outputs": []
    },
    {
      "cell_type": "markdown",
      "source": [
        "###Permet de créer un Vect3D à partir d'un string"
      ],
      "metadata": {
        "id": "43WtYTYl7Axx"
      }
    },
    {
      "cell_type": "code",
      "source": [
        "   Vect3D(string input)\n",
        "    {\n",
        "        vector<string> inputs;\n",
        "        string current(\"\");\n",
        "        for (int i = 0; i < input.length(); i++)\n",
        "        {\n",
        "            char c = input[i];\n",
        "            if (c == ' ')\n",
        "            {\n",
        "                inputs.push_back(current);\n",
        "                current = \"\";\n",
        "            }\n",
        "            else\n",
        "            {\n",
        "                current += c;\n",
        "            }\n",
        "        }\n",
        "        inputs.push_back(current);\n",
        "        if (inputs.size() != 3)\n",
        "        {\n",
        "            return;\n",
        "        }\n",
        "        x = stod(inputs[0]);\n",
        "        y = stod(inputs[1]);\n",
        "        z = stod(inputs[2]);\n",
        "    }"
      ],
      "metadata": {
        "id": "NQ0NMv0x7Nsg"
      },
      "execution_count": null,
      "outputs": []
    },
    {
      "cell_type": "markdown",
      "source": [
        "### Ajouter un triplet à un Vect3D"
      ],
      "metadata": {
        "id": "4FAlUnTm7qG7"
      }
    },
    {
      "cell_type": "code",
      "source": [
        "    void addValue(double xt = 0, double yt = 0, double zt = 0)\n",
        "    {\n",
        "        x += xt;\n",
        "        y += yt;\n",
        "        z += zt;\n",
        "    }"
      ],
      "metadata": {
        "id": "dsEDf3c97s2c"
      },
      "execution_count": null,
      "outputs": []
    },
    {
      "cell_type": "markdown",
      "source": [
        "### Transforme un vecteur en a autre"
      ],
      "metadata": {
        "id": "4jZMHnwm8V9y"
      }
    },
    {
      "cell_type": "code",
      "source": [
        "    void setValue(double xt, double yt, double zt)\n",
        "    {\n",
        "        x = xt;\n",
        "        y = yt;\n",
        "        z = zt;\n",
        "    }"
      ],
      "metadata": {
        "id": "cXIEOFZr8g-X"
      },
      "execution_count": null,
      "outputs": []
    },
    {
      "cell_type": "markdown",
      "source": [
        "### size() : calcul de la norme du vecteur 3D"
      ],
      "metadata": {
        "id": "7tfRU9D78mCr"
      }
    },
    {
      "cell_type": "code",
      "source": [
        "    double size()\n",
        "    {\n",
        "        return sqrt(sq(x) + sq(y) + sq(z));\n",
        "    }"
      ],
      "metadata": {
        "id": "VVcz5CRx83LO"
      },
      "execution_count": null,
      "outputs": []
    },
    {
      "cell_type": "markdown",
      "source": [
        "### .getValues() : output le triplet du Vect3D"
      ],
      "metadata": {
        "id": "NAt_v2Ji9HuV"
      }
    },
    {
      "cell_type": "code",
      "source": [
        "    string getValue()\n",
        "    {\n",
        "        return \"X = \" + to_string(x) + \"\\nY = \" + to_string(y) + \"\\nZ = \" + to_string(z);\n",
        "    }\n",
        "};"
      ],
      "metadata": {
        "id": "uu6qd88h9IRw"
      },
      "execution_count": null,
      "outputs": []
    },
    {
      "cell_type": "markdown",
      "source": [
        "### calcul de produit vectorielle avec une norme précise."
      ],
      "metadata": {
        "id": "uSo_0Xzv9S7L"
      }
    },
    {
      "cell_type": "code",
      "source": [
        "Vect3D vectorialProduct(Vect3D u, Vect3D v, double size)\n",
        "{\n",
        "    double x(u.getY() * v.getZ() - u.getZ() * v.getY()), y(v.getX() * u.getZ() - u.getX() * v.getZ()), z(u.getX() * v.getY() - u.getY() * v.getX());\n",
        "    size /= sqrt(sq(x) + sq(y) + sq(z));\n",
        "    return Vect3D(x * size, y * size, z * size);\n",
        "}"
      ],
      "metadata": {
        "id": "msBVP2yZ9T21"
      },
      "execution_count": null,
      "outputs": []
    },
    {
      "cell_type": "markdown",
      "source": [
        "## Exportation de fichier de python vers C++ ( pour la modélisation )"
      ],
      "metadata": {
        "id": "8r_mD8n_1gj7"
      }
    },
    {
      "cell_type": "code",
      "source": [
        "#pragma once\n",
        "\n",
        "#include <vector>\n",
        "#include <iostream>\n",
        "#include <Python.h>\n",
        "#include \"vector.h\"\n",
        "#include \"constants.h\"\n",
        "\n",
        "using namespace std;;\n",
        "\n",
        "void print2DGraph(vector<Vect3D> positions)\n",
        "{\n",
        "\n",
        "    Py_Initialize();\n",
        "\n",
        "    PyObject *pModule = PyImport_ImportModule(\"2dgraph\");\n",
        "    if (!pModule)\n",
        "    {\n",
        "        PyErr_Print();\n",
        "        exit(1);\n",
        "    }\n",
        "    PyObject *pClass = PyObject_GetAttrString(pModule, \"2dgraph.py\");\n",
        "    if (!pClass)\n",
        "    {\n",
        "        PyErr_Print();\n",
        "        exit(1);\n",
        "    }\n",
        "    PyObject *pInit = PyObject_GetAttrString(pClass, \"graph\");\n",
        "    if (!pInit || !PyCallable_Check(pInit))\n",
        "    {\n",
        "        PyErr_Print();\n",
        "        exit(1);\n",
        "    }\n",
        "\n",
        "    PyObject *pList = PyList_New(4);\n",
        "    for (int time = 0; time < positions.size(); time++)\n",
        "    {\n",
        "        PyObject *pTuple = PyTuple_New(4);\n",
        "        PyTuple_SetItem(pTuple, 0, PyFloat_FromDouble(time / spacing_per_second));\n",
        "        PyTuple_SetItem(pTuple, 1, PyFloat_FromDouble(positions[time].getX()));\n",
        "        PyTuple_SetItem(pTuple, 2, PyFloat_FromDouble(positions[time].getY()));\n",
        "        PyTuple_SetItem(pTuple, 3, PyFloat_FromDouble(positions[time].getZ()));\n",
        "        PyList_Append(pList, pTuple);\n",
        "    }\n",
        "\n",
        "    PyObject *pArgs = PyTuple_Pack(positions.size(), pList);\n",
        "    PyObject *pInstance = PyObject_CallObject(pClass, pArgs);\n",
        "    if (!pInstance)\n",
        "    {\n",
        "        PyErr_Print();\n",
        "        exit(1);\n",
        "    }\n",
        "    Py_XDECREF(pInstance);\n",
        "    Py_XDECREF(pArgs);\n",
        "    Py_XDECREF(pList);\n",
        "    Py_XDECREF(pClass);\n",
        "    Py_DECREF(pModule);\n",
        "    Py_Finalize();\n",
        "}"
      ],
      "metadata": {
        "id": "e5VZSvFc1nSq"
      },
      "execution_count": null,
      "outputs": []
    },
    {
      "cell_type": "markdown",
      "source": [
        "## Fichier texte "
      ],
      "metadata": {
        "id": "wQU3OC6aAJ3X"
      }
    },
    {
      "cell_type": "code",
      "source": [
        "\n",
        "Welcome to tennis table c++ simulation !\n",
        "\n",
        "Here are the available simulations, please enter the corresponding number :\n",
        "1) Without friction\n",
        "2) With friction\n",
        "3) Magnus effect\n",
        "\n",
        "\n",
        "Nice, you've chosen simulation {type}!\n",
        "\n",
        "\n",
        "Enter initial position Values: (Ex: 0 0 0.15)\n",
        "\n",
        "\n",
        "Enter initial speed Values: (Ex: 0 4 1)\n",
        "\n",
        "\n",
        "Solving differential equation"
      ],
      "metadata": {
        "id": "Z_sxm5fKAZIh"
      },
      "execution_count": null,
      "outputs": []
    }
  ]
}
